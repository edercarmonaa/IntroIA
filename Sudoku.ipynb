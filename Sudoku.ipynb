{
  "nbformat": 4,
  "nbformat_minor": 0,
  "metadata": {
    "colab": {
      "private_outputs": true,
      "provenance": [],
      "authorship_tag": "ABX9TyOSdMh419iDO4jYZioSDGPo",
      "include_colab_link": true
    },
    "kernelspec": {
      "name": "python3",
      "display_name": "Python 3"
    },
    "language_info": {
      "name": "python"
    }
  },
  "cells": [
    {
      "cell_type": "markdown",
      "metadata": {
        "id": "view-in-github",
        "colab_type": "text"
      },
      "source": [
        "<a href=\"https://colab.research.google.com/github/edercarmonaa/IntroIA/blob/main/Sudoku.ipynb\" target=\"_parent\"><img src=\"https://colab.research.google.com/assets/colab-badge.svg\" alt=\"Open In Colab\"/></a>"
      ]
    },
    {
      "cell_type": "markdown",
      "source": [
        "![Sudoku-by-L2G-20050714.png](data:image/png;base64,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)\n",
        "Para resolver el Sudoku utilizando búsqueda ciega con árboles y las librerías anytree y numpy, podemos implementar los algoritmos de búsqueda en anchura (BFS), búsqueda en profundidad (DFS) e iterative deepening depth-first search (IDDFS). A continuación, te presento un ejemplo de cómo hacerlo."
      ],
      "metadata": {
        "id": "wZiVKBzH1PH5"
      }
    },
    {
      "cell_type": "markdown",
      "source": [
        "Es importante tener en cuenta que aunque la búsqueda ciega puede resolver estos problemas, no siempre es la estrategia más eficiente, especialmente en problemas de gran complejidad. En la práctica, se suelen utilizar técnicas de búsqueda informada (como la búsqueda heurística) para mejorar el rendimiento en problemas más grandes o complejos.\n",
        "\n",
        "Antes de mostrar el código, es importante mencionar que esta implementación podría ser muy lenta para tableros con muchas casillas vacías, ya que tendría que probar muchas combinaciones hasta encontrar la solución.\n",
        "\n",
        "Dicho esto, aquí tienes un ejemplo de código Python para resolver el Sudoku utilizando búsqueda ciega:\n",
        "\n",
        "Primero, asegúrate de tener instaladas las librerías anytree y numpy. Puedes instalarlas usando pip si aún no lo has hecho:"
      ],
      "metadata": {
        "id": "VeUvCdDg1c-1"
      }
    },
    {
      "cell_type": "code",
      "execution_count": null,
      "metadata": {
        "id": "Nq_ZDAKRgfTy"
      },
      "outputs": [],
      "source": [
        "pip install anytree\n"
      ]
    },
    {
      "cell_type": "markdown",
      "source": [
        "Importamos las librerías necesarias"
      ],
      "metadata": {
        "id": "mbIQK-cc1S8B"
      }
    },
    {
      "cell_type": "code",
      "source": [
        "import numpy as np\n",
        "from anytree import Node, RenderTree\n",
        "from collections import deque\n",
        "import time\n",
        "import resource"
      ],
      "metadata": {
        "id": "WRqJcpXZg-fw"
      },
      "execution_count": null,
      "outputs": []
    },
    {
      "cell_type": "markdown",
      "source": [
        "Primero definimos dos funciones auxiliares, is_valid que valida si se puede colocar un numero en una celda sin violar las reglas del sudoku, y la función find_empty, busca las celdas vacías dentro del tablero"
      ],
      "metadata": {
        "id": "erX9-Ycj1kYw"
      }
    },
    {
      "cell_type": "code",
      "source": [
        "def is_valid(board, num, row, col):\n",
        "    # Verificar si el número se puede colocar en la posición (fila, columna)\n",
        "    # sin violar las reglas del Sudoku.\n",
        "    for i in range(9):\n",
        "        if board[row][i] == num or board[i][col] == num:\n",
        "            return False\n",
        "\n",
        "    start_row, start_col = 3 * (row // 3), 3 * (col // 3)\n",
        "    for i in range(3):\n",
        "        for j in range(3):\n",
        "            if board[start_row + i][start_col + j] == num:\n",
        "                return False\n",
        "    return True\n",
        "\n",
        "def find_empty(board):\n",
        "    # Encontrar la primera celda vacía del tablero.\n",
        "    for i in range(9):\n",
        "        for j in range(9):\n",
        "            if board[i][j] == 0:\n",
        "                return i, j\n",
        "    return None, None\n"
      ],
      "metadata": {
        "id": "jKcSG7uwhAbl"
      },
      "execution_count": null,
      "outputs": []
    },
    {
      "cell_type": "markdown",
      "source": [
        "La función solve_sudoku_bfs es la implementación de búsqueda en anchura (BFS) para resolver el Sudoku utilizando un enfoque de búsqueda ciega con árboles. En este método, exploramos todos los posibles estados del tablero del Sudoku en un orden nivel por nivel, es decir, primero exploramos todos los posibles tableros después de un solo movimiento, luego todos los posibles tableros después de dos movimientos y así sucesivamente."
      ],
      "metadata": {
        "id": "emiYH4VB1m6X"
      }
    },
    {
      "cell_type": "code",
      "source": [
        "def solve_sudoku_bfs(board):\n",
        "    root = Node(\"Root\", board=board)\n",
        "    queue = deque([root])\n",
        "\n",
        "    while queue:\n",
        "        node = queue.popleft()\n",
        "        empty_row, empty_col = find_empty(node.board)\n",
        "\n",
        "        if empty_row is None or empty_col is None:\n",
        "            # No hay celdas vacías, el tablero está resuelto.\n",
        "            return node.board\n",
        "\n",
        "        for num in range(1, 10):\n",
        "            if is_valid(node.board, num, empty_row, empty_col):\n",
        "                new_board = np.copy(node.board)\n",
        "                new_board[empty_row][empty_col] = num\n",
        "                child_node = Node(\"({}, {}) = {}\".format(empty_row, empty_col, num), parent=node, board=new_board)\n",
        "                queue.append(child_node)"
      ],
      "metadata": {
        "id": "P_HtJL0EhFlF"
      },
      "execution_count": null,
      "outputs": []
    },
    {
      "cell_type": "markdown",
      "source": [
        "La función solve_sudoku_dfs es la implementación de búsqueda en profundidad (DFS) para resolver el Sudoku utilizando un enfoque de búsqueda ciega con árboles. En este método, exploramos todos los posibles estados del tablero del Sudoku siguiendo un camino en profundidad hasta llegar a una solución o hasta que no haya más movimientos posibles, en cuyo caso retrocedemos (backtrack) a un estado anterior y seguimos explorando otros caminos."
      ],
      "metadata": {
        "id": "P8TYPMxB1pif"
      }
    },
    {
      "cell_type": "code",
      "source": [
        "def solve_sudoku_dfs(board):\n",
        "    root = Node(\"Root\", board=board)\n",
        "    stack = [root]\n",
        "\n",
        "    while stack:\n",
        "        node = stack.pop()\n",
        "        empty_row, empty_col = find_empty(node.board)\n",
        "\n",
        "        if empty_row is None or empty_col is None:\n",
        "            # No hay celdas vacías, el tablero está resuelto.\n",
        "            return node.board\n",
        "\n",
        "        for num in range(1, 10):\n",
        "            if is_valid(node.board, num, empty_row, empty_col):\n",
        "                new_board = np.copy(node.board)\n",
        "                new_board[empty_row][empty_col] = num\n",
        "                child_node = Node(\"({}, {}) = {}\".format(empty_row, empty_col, num), parent=node, board=new_board)\n",
        "                stack.append(child_node)"
      ],
      "metadata": {
        "id": "SFqjWSm0hI5t"
      },
      "execution_count": null,
      "outputs": []
    },
    {
      "cell_type": "markdown",
      "source": [
        "La función solve_sudoku_iddfs es la implementación de búsqueda en profundidad iterativa (IDDFS) para resolver el Sudoku utilizando un enfoque de búsqueda ciega con árboles. La IDDFS combina las ventajas de la búsqueda en profundidad (DFS) y la búsqueda en anchura (BFS) al ejecutar varias iteraciones de búsqueda en profundidad con límites incrementales en la profundidad máxima de búsqueda."
      ],
      "metadata": {
        "id": "R0h0TNSN1sqx"
      }
    },
    {
      "cell_type": "code",
      "source": [
        "def solve_sudoku_iddfs(board):\n",
        "    max_depth = 0\n",
        "    root = Node(\"Root\", board=board)\n",
        "\n",
        "    while True:\n",
        "        stack = [root]\n",
        "        while stack:\n",
        "            node = stack.pop()\n",
        "            if node.depth == max_depth:\n",
        "                continue\n",
        "\n",
        "            empty_row, empty_col = find_empty(node.board)\n",
        "\n",
        "            if empty_row is None or empty_col is None:\n",
        "                # No hay celdas vacías, el tablero está resuelto.\n",
        "                return node.board\n",
        "\n",
        "            for num in range(1, 10):\n",
        "                if is_valid(node.board, num, empty_row, empty_col):\n",
        "                    new_board = np.copy(node.board)\n",
        "                    new_board[empty_row][empty_col] = num\n",
        "                    child_node = Node(\"({}, {}) = {}\".format(empty_row, empty_col, num), parent=node, board=new_board)\n",
        "                    stack.append(child_node)\n",
        "\n",
        "        max_depth += 1"
      ],
      "metadata": {
        "id": "La03_0FshOc_"
      },
      "execution_count": null,
      "outputs": []
    },
    {
      "cell_type": "markdown",
      "source": [
        "Para medir el tiempo de ejecución y el consumo de recursos de las funciones de resolución del Sudoku (BFS, DFS e IDDFS), utilizaremos el módulo time para registrar el tiempo de inicio y finalización de cada función y el módulo resource para medir el consumo de recursos."
      ],
      "metadata": {
        "id": "Edn3b4-j1vaI"
      }
    },
    {
      "cell_type": "code",
      "source": [
        "# Ejemplo de tablero Sudoku (0 representa celdas vacías)\n",
        "sudoku_board = np.array([\n",
        "    [5, 3, 0, 0, 7, 0, 0, 0, 0],\n",
        "    [6, 0, 0, 1, 9, 5, 0, 0, 0],\n",
        "    [0, 9, 8, 0, 0, 0, 0, 6, 0],\n",
        "    [8, 0, 0, 0, 6, 0, 0, 0, 3],\n",
        "    [4, 0, 0, 8, 0, 3, 0, 0, 1],\n",
        "    [7, 0, 0, 0, 2, 0, 0, 0, 6],\n",
        "    [0, 6, 0, 0, 0, 0, 2, 8, 0],\n",
        "    [0, 0, 0, 4, 1, 9, 0, 0, 5],\n",
        "    [0, 0, 0, 0, 8, 0, 0, 7, 9]\n",
        "])\n",
        "\n",
        "# Resolver el Sudoku utilizando BFS\n",
        "start_time = time.time()\n",
        "start_resources = resource.getrusage(resource.RUSAGE_SELF)\n",
        "result_bfs = solve_sudoku_bfs(sudoku_board)\n",
        "end_time = time.time()\n",
        "end_resources = resource.getrusage(resource.RUSAGE_SELF)\n",
        "execution_time_bfs = end_time - start_time\n",
        "consumed_resources_bfs = end_resources.ru_maxrss - start_resources.ru_maxrss\n",
        "\n",
        "print(\"Resolución usando BFS:\")\n",
        "print(result_bfs)\n",
        "print(f\"Tiempo de ejecución: {execution_time_bfs:.6f} segundos\")\n",
        "print(f\"Consumo de recursos: {consumed_resources_bfs} KB\")\n",
        "\n",
        "# Resolver el Sudoku utilizando DFS\n",
        "start_time = time.time()\n",
        "start_resources = resource.getrusage(resource.RUSAGE_SELF)\n",
        "result_dfs = solve_sudoku_dfs(sudoku_board)\n",
        "end_time = time.time()\n",
        "end_resources = resource.getrusage(resource.RUSAGE_SELF)\n",
        "execution_time_dfs = end_time - start_time\n",
        "consumed_resources_dfs = end_resources.ru_maxrss - start_resources.ru_maxrss\n",
        "\n",
        "print(\"\\nResolución usando DFS:\")\n",
        "print(result_dfs)\n",
        "print(f\"Tiempo de ejecución: {execution_time_dfs:.6f} segundos\")\n",
        "print(f\"Consumo de recursos: {consumed_resources_dfs} KB\")\n",
        "\n",
        "# Resolver el Sudoku utilizando IDDFS\n",
        "start_time = time.time()\n",
        "start_resources = resource.getrusage(resource.RUSAGE_SELF)\n",
        "result_iddfs = solve_sudoku_iddfs(sudoku_board)\n",
        "end_time = time.time()\n",
        "end_resources = resource.getrusage(resource.RUSAGE_SELF)\n",
        "execution_time_iddfs = end_time - start_time\n",
        "consumed_resources_iddfs = end_resources.ru_maxrss - start_resources.ru_maxrss\n",
        "\n",
        "print(\"\\nResolución usando IDDFS:\")\n",
        "print(result_iddfs)\n",
        "print(f\"Tiempo de ejecución: {execution_time_iddfs:.6f} segundos\")\n",
        "print(f\"Consumo de recursos: {consumed_resources_iddfs} KB\")\n"
      ],
      "metadata": {
        "id": "bIY0KGo6iL3c"
      },
      "execution_count": null,
      "outputs": []
    },
    {
      "cell_type": "markdown",
      "source": [
        "En este código, hemos agregado el registro del tiempo y el consumo de recursos antes y después de cada función de resolución del Sudoku (BFS, DFS e IDDFS). Al final de cada ejecución, imprimimos el tablero resuelto, el tiempo de ejecución y el consumo de recursos (medido en kilobytes, KB).\n",
        "\n",
        "El consumo de recursos se mide utilizando la función resource.getrusage(resource.RUSAGE_SELF), que proporciona información sobre los recursos utilizados por el proceso actual. La diferencia entre los valores antes y después de la función nos da el consumo de recursos durante la ejecución de esa función.\n",
        "\n",
        "Recuerda que el tiempo de ejecución y el consumo de recursos pueden variar según la plataforma y la carga del sistema. Si estás ejecutando este código en un entorno en línea, es posible que no obtengas valores precisos de consumo de recursos debido a las limitaciones del entorno. Sin embargo, deberías poder obtener tiempos de ejecución válidos."
      ],
      "metadata": {
        "id": "VJzhn70f10S3"
      }
    }
  ]
}