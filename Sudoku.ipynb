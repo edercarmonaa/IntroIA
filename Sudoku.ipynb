{
  "nbformat": 4,
  "nbformat_minor": 0,
  "metadata": {
    "colab": {
      "private_outputs": true,
      "provenance": [],
      "authorship_tag": "ABX9TyMM2DqjGa/rx91oGbyqcIHS",
      "include_colab_link": true
    },
    "kernelspec": {
      "name": "python3",
      "display_name": "Python 3"
    },
    "language_info": {
      "name": "python"
    }
  },
  "cells": [
    {
      "cell_type": "markdown",
      "metadata": {
        "id": "view-in-github",
        "colab_type": "text"
      },
      "source": [
        "<a href=\"https://colab.research.google.com/github/edercarmonaa/IntroIA/blob/main/Sudoku.ipynb\" target=\"_parent\"><img src=\"https://colab.research.google.com/assets/colab-badge.svg\" alt=\"Open In Colab\"/></a>"
      ]
    },
    {
      "cell_type": "code",
      "execution_count": null,
      "metadata": {
        "id": "Nq_ZDAKRgfTy"
      },
      "outputs": [],
      "source": [
        "pip install anytree\n"
      ]
    },
    {
      "cell_type": "code",
      "source": [
        "import numpy as np\n",
        "from anytree import Node, RenderTree\n",
        "from collections import deque\n",
        "import time\n",
        "import resource"
      ],
      "metadata": {
        "id": "WRqJcpXZg-fw"
      },
      "execution_count": null,
      "outputs": []
    },
    {
      "cell_type": "code",
      "source": [
        "def is_valid(board, num, row, col):\n",
        "    # Verificar si el número se puede colocar en la posición (fila, columna)\n",
        "    # sin violar las reglas del Sudoku.\n",
        "    for i in range(9):\n",
        "        if board[row][i] == num or board[i][col] == num:\n",
        "            return False\n",
        "\n",
        "    start_row, start_col = 3 * (row // 3), 3 * (col // 3)\n",
        "    for i in range(3):\n",
        "        for j in range(3):\n",
        "            if board[start_row + i][start_col + j] == num:\n",
        "                return False\n",
        "    return True\n",
        "\n",
        "def find_empty(board):\n",
        "    # Encontrar la primera celda vacía del tablero.\n",
        "    for i in range(9):\n",
        "        for j in range(9):\n",
        "            if board[i][j] == 0:\n",
        "                return i, j\n",
        "    return None, None\n"
      ],
      "metadata": {
        "id": "jKcSG7uwhAbl"
      },
      "execution_count": null,
      "outputs": []
    },
    {
      "cell_type": "code",
      "source": [
        "def solve_sudoku_bfs(board):\n",
        "    root = Node(\"Root\", board=board)\n",
        "    queue = deque([root])\n",
        "\n",
        "    while queue:\n",
        "        node = queue.popleft()\n",
        "        empty_row, empty_col = find_empty(node.board)\n",
        "\n",
        "        if empty_row is None or empty_col is None:\n",
        "            # No hay celdas vacías, el tablero está resuelto.\n",
        "            return node.board\n",
        "\n",
        "        for num in range(1, 10):\n",
        "            if is_valid(node.board, num, empty_row, empty_col):\n",
        "                new_board = np.copy(node.board)\n",
        "                new_board[empty_row][empty_col] = num\n",
        "                child_node = Node(\"({}, {}) = {}\".format(empty_row, empty_col, num), parent=node, board=new_board)\n",
        "                queue.append(child_node)"
      ],
      "metadata": {
        "id": "P_HtJL0EhFlF"
      },
      "execution_count": null,
      "outputs": []
    },
    {
      "cell_type": "code",
      "source": [
        "def solve_sudoku_dfs(board):\n",
        "    root = Node(\"Root\", board=board)\n",
        "    stack = [root]\n",
        "\n",
        "    while stack:\n",
        "        node = stack.pop()\n",
        "        empty_row, empty_col = find_empty(node.board)\n",
        "\n",
        "        if empty_row is None or empty_col is None:\n",
        "            # No hay celdas vacías, el tablero está resuelto.\n",
        "            return node.board\n",
        "\n",
        "        for num in range(1, 10):\n",
        "            if is_valid(node.board, num, empty_row, empty_col):\n",
        "                new_board = np.copy(node.board)\n",
        "                new_board[empty_row][empty_col] = num\n",
        "                child_node = Node(\"({}, {}) = {}\".format(empty_row, empty_col, num), parent=node, board=new_board)\n",
        "                stack.append(child_node)"
      ],
      "metadata": {
        "id": "SFqjWSm0hI5t"
      },
      "execution_count": null,
      "outputs": []
    },
    {
      "cell_type": "code",
      "source": [
        "def solve_sudoku_iddfs(board):\n",
        "    max_depth = 0\n",
        "    root = Node(\"Root\", board=board)\n",
        "\n",
        "    while True:\n",
        "        stack = [root]\n",
        "        while stack:\n",
        "            node = stack.pop()\n",
        "            if node.depth == max_depth:\n",
        "                continue\n",
        "\n",
        "            empty_row, empty_col = find_empty(node.board)\n",
        "\n",
        "            if empty_row is None or empty_col is None:\n",
        "                # No hay celdas vacías, el tablero está resuelto.\n",
        "                return node.board\n",
        "\n",
        "            for num in range(1, 10):\n",
        "                if is_valid(node.board, num, empty_row, empty_col):\n",
        "                    new_board = np.copy(node.board)\n",
        "                    new_board[empty_row][empty_col] = num\n",
        "                    child_node = Node(\"({}, {}) = {}\".format(empty_row, empty_col, num), parent=node, board=new_board)\n",
        "                    stack.append(child_node)\n",
        "\n",
        "        max_depth += 1"
      ],
      "metadata": {
        "id": "La03_0FshOc_"
      },
      "execution_count": null,
      "outputs": []
    },
    {
      "cell_type": "code",
      "source": [
        "# Ejemplo de tablero Sudoku (0 representa celdas vacías)\n",
        "sudoku_board = np.array([\n",
        "    [5, 3, 0, 0, 7, 0, 0, 0, 0],\n",
        "    [6, 0, 0, 1, 9, 5, 0, 0, 0],\n",
        "    [0, 9, 8, 0, 0, 0, 0, 6, 0],\n",
        "    [8, 0, 0, 0, 6, 0, 0, 0, 3],\n",
        "    [4, 0, 0, 8, 0, 3, 0, 0, 1],\n",
        "    [7, 0, 0, 0, 2, 0, 0, 0, 6],\n",
        "    [0, 6, 0, 0, 0, 0, 2, 8, 0],\n",
        "    [0, 0, 0, 4, 1, 9, 0, 0, 5],\n",
        "    [0, 0, 0, 0, 8, 0, 0, 7, 9]\n",
        "])\n",
        "\n",
        "# Resolver el Sudoku utilizando BFS\n",
        "start_time = time.time()\n",
        "start_resources = resource.getrusage(resource.RUSAGE_SELF)\n",
        "result_bfs = solve_sudoku_bfs(sudoku_board)\n",
        "end_time = time.time()\n",
        "end_resources = resource.getrusage(resource.RUSAGE_SELF)\n",
        "execution_time_bfs = end_time - start_time\n",
        "consumed_resources_bfs = end_resources.ru_maxrss - start_resources.ru_maxrss\n",
        "\n",
        "print(\"Resolución usando BFS:\")\n",
        "print(result_bfs)\n",
        "print(f\"Tiempo de ejecución: {execution_time_bfs:.6f} segundos\")\n",
        "print(f\"Consumo de recursos: {consumed_resources_bfs} KB\")\n",
        "\n",
        "# Resolver el Sudoku utilizando DFS\n",
        "start_time = time.time()\n",
        "start_resources = resource.getrusage(resource.RUSAGE_SELF)\n",
        "result_dfs = solve_sudoku_dfs(sudoku_board)\n",
        "end_time = time.time()\n",
        "end_resources = resource.getrusage(resource.RUSAGE_SELF)\n",
        "execution_time_dfs = end_time - start_time\n",
        "consumed_resources_dfs = end_resources.ru_maxrss - start_resources.ru_maxrss\n",
        "\n",
        "print(\"\\nResolución usando DFS:\")\n",
        "print(result_dfs)\n",
        "print(f\"Tiempo de ejecución: {execution_time_dfs:.6f} segundos\")\n",
        "print(f\"Consumo de recursos: {consumed_resources_dfs} KB\")\n",
        "\n",
        "# Resolver el Sudoku utilizando IDDFS\n",
        "start_time = time.time()\n",
        "start_resources = resource.getrusage(resource.RUSAGE_SELF)\n",
        "result_iddfs = solve_sudoku_iddfs(sudoku_board)\n",
        "end_time = time.time()\n",
        "end_resources = resource.getrusage(resource.RUSAGE_SELF)\n",
        "execution_time_iddfs = end_time - start_time\n",
        "consumed_resources_iddfs = end_resources.ru_maxrss - start_resources.ru_maxrss\n",
        "\n",
        "print(\"\\nResolución usando IDDFS:\")\n",
        "print(result_iddfs)\n",
        "print(f\"Tiempo de ejecución: {execution_time_iddfs:.6f} segundos\")\n",
        "print(f\"Consumo de recursos: {consumed_resources_iddfs} KB\")\n",
        "\n",
        "for pre, _, node in RenderTree(Node(\"Root\", board=result_iddfs)):\n",
        "    print(f\"{pre}{node.name}\")\n"
      ],
      "metadata": {
        "id": "bIY0KGo6iL3c"
      },
      "execution_count": null,
      "outputs": []
    }
  ]
}