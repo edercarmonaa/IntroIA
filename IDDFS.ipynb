{
  "nbformat": 4,
  "nbformat_minor": 0,
  "metadata": {
    "colab": {
      "private_outputs": true,
      "provenance": [],
      "authorship_tag": "ABX9TyMYarYWMZ74oy7ev8drO7LM",
      "include_colab_link": true
    },
    "kernelspec": {
      "name": "python3",
      "display_name": "Python 3"
    },
    "language_info": {
      "name": "python"
    }
  },
  "cells": [
    {
      "cell_type": "markdown",
      "metadata": {
        "id": "view-in-github",
        "colab_type": "text"
      },
      "source": [
        "<a href=\"https://colab.research.google.com/github/edercarmonaa/IntroIA/blob/main/IDDFS.ipynb\" target=\"_parent\"><img src=\"https://colab.research.google.com/assets/colab-badge.svg\" alt=\"Open In Colab\"/></a>"
      ]
    },
    {
      "cell_type": "code",
      "execution_count": null,
      "metadata": {
        "id": "iIwN23jDEBw3"
      },
      "outputs": [],
      "source": [
        "pip install anytree\n"
      ]
    },
    {
      "cell_type": "markdown",
      "source": [
        "En este ejemplo, la función iddfs implementa la búsqueda en profundidad progresiva. Toma un nodo, un objetivo a buscar y una profundidad máxima como argumentos. Comienza verificando si el nodo actual coincide con el objetivo. Si es así, devuelve el nodo. Si la profundidad alcanza el límite especificado, se detiene y devuelve None. De lo contrario, continúa la búsqueda en profundidad en los nodos hijos hasta alcanzar la profundidad máxima."
      ],
      "metadata": {
        "id": "untwzDvXN00U"
      }
    },
    {
      "cell_type": "code",
      "source": [
        "from anytree import Node, RenderTree\n",
        "# Función de búsqueda en profundidad progresiva\n",
        "def iddfs(node, target, depth):\n",
        "    if node.name == target:\n",
        "        return node\n",
        "\n",
        "    if depth <= 0:\n",
        "        return None\n",
        "\n",
        "    for child in node.children:\n",
        "        result = iddfs(child, target, depth - 1)\n",
        "        if result is not None:\n",
        "            return result\n",
        "    return None"
      ],
      "metadata": {
        "id": "7iS0UVZ-TYCK"
      },
      "execution_count": null,
      "outputs": []
    },
    {
      "cell_type": "markdown",
      "source": [
        "Luego, en el código principal, creamos un árbol general de ejemplo"
      ],
      "metadata": {
        "id": "0nsnpCNrN99l"
      }
    },
    {
      "cell_type": "code",
      "source": [
        "# Crear un árbol general de ejemplo\n",
        "raiz = Node(\"A\")\n",
        "nodo_d = Node(\"D\", parent=raiz)\n",
        "nodo_f = Node(\"F\", parent=raiz)\n",
        "nodo_g = Node(\"G\", parent=raiz)\n",
        "nodo_h = Node(\"H\", parent=nodo_d)\n",
        "nodo_j = Node(\"J\", parent=nodo_d)\n",
        "nodo_c = Node(\"C\", parent=nodo_f)\n",
        "nodo_e = Node(\"E\", parent=nodo_f)\n",
        "nodo_k = Node(\"K\", parent=nodo_j)\n",
        "nodo_l = Node(\"L\", parent=nodo_k)\n",
        "nodo_z = Node(\"Z\", parent=nodo_e)\n",
        "nodo_w = Node(\"W\", parent=nodo_e)\n",
        "for pre, fill, node in RenderTree(raiz):\n",
        "    print(\"%s%s\" % (pre, node.name))\n"
      ],
      "metadata": {
        "id": "URc8p2FqTcqx"
      },
      "execution_count": null,
      "outputs": []
    },
    {
      "cell_type": "markdown",
      "source": [
        " Especificamos el objetivo a buscar (target) y la profundidad máxima (max_depth). Iteramos sobre diferentes profundidades, llamando a la función iddfs con cada profundidad. Si se encuentra el nodo objetivo, se imprime y se rompe el bucle. Si no se encuentra en ninguna profundidad, se imprime un mensaje indicando que no se encontró el nodo."
      ],
      "metadata": {
        "id": "0QFehNx9OE3-"
      }
    },
    {
      "cell_type": "code",
      "source": [
        "# Realizar búsqueda en profundidad progresiva\n",
        "target = \"L\"\n",
        "max_depth = 3\n",
        "for depth in range(max_depth + 1):\n",
        "    result = iddfs(raiz, target, depth)\n",
        "    if result is not None:\n",
        "        print(\"Nodo encontrado:\", result)\n",
        "        break\n",
        "\n",
        "if result is None:\n",
        "    print(\"Nodo no encontrado\")"
      ],
      "metadata": {
        "id": "16faJupBsSkq"
      },
      "execution_count": null,
      "outputs": []
    }
  ]
}