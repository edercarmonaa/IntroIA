{
  "nbformat": 4,
  "nbformat_minor": 0,
  "metadata": {
    "colab": {
      "private_outputs": true,
      "provenance": [],
      "authorship_tag": "ABX9TyMDBgvpYBvFhAnc9OLO0ZUS",
      "include_colab_link": true
    },
    "kernelspec": {
      "name": "python3",
      "display_name": "Python 3"
    },
    "language_info": {
      "name": "python"
    }
  },
  "cells": [
    {
      "cell_type": "markdown",
      "metadata": {
        "id": "view-in-github",
        "colab_type": "text"
      },
      "source": [
        "<a href=\"https://colab.research.google.com/github/edercarmonaa/IntroIA/blob/main/BFS.ipynb\" target=\"_parent\"><img src=\"https://colab.research.google.com/assets/colab-badge.svg\" alt=\"Open In Colab\"/></a>"
      ]
    },
    {
      "cell_type": "code",
      "source": [
        "pip install anytree\n"
      ],
      "metadata": {
        "id": "QequyoYer6G9"
      },
      "execution_count": null,
      "outputs": []
    },
    {
      "cell_type": "code",
      "source": [
        "from anytree import Node, RenderTree, LevelOrderIter\n",
        "\n",
        "# Crear un árbol general\n",
        "raiz = Node(\"A\")\n",
        "nodo_d = Node(\"D\", parent=raiz)\n",
        "nodo_f = Node(\"F\", parent=raiz)\n",
        "nodo_g = Node(\"G\", parent=raiz)\n",
        "nodo_h = Node(\"H\", parent=nodo_d)\n",
        "nodo_j = Node(\"J\", parent=nodo_d)\n",
        "nodo_c = Node(\"C\", parent=nodo_f)\n",
        "nodo_e = Node(\"E\", parent=nodo_f)\n",
        "nodo_k = Node(\"K\", parent=nodo_j)\n",
        "nodo_l = Node(\"L\", parent=nodo_k)\n",
        "nodo_z = Node(\"Z\", parent=nodo_e)\n",
        "nodo_w = Node(\"W\", parent=nodo_e)\n",
        "\n",
        "# Imprimir el árbol\n",
        "for pre, fill, node in RenderTree(raiz):\n",
        "    print(\"%s%s\" % (pre, node.name))"
      ],
      "metadata": {
        "id": "ETptdtrFsGvc"
      },
      "execution_count": null,
      "outputs": []
    },
    {
      "cell_type": "code",
      "source": [
        "#En este ejemplo, utilizamos el LevelOrderIter de anytree\n",
        "#para realizar una búsqueda en amplitud en el árbol a partir de un nodo raíz.\n",
        "#Iteramos sobre los nodos en orden de nivel, lo que significa que primero se\n",
        "#exploran los nodos a nivel 0, luego los nodos a nivel 1, y así sucesivamente.\n",
        "print(\"-----Recorrido-----\")\n",
        "for nodo in LevelOrderIter(raiz):\n",
        "    print(nodo.name, end=\" \")\n",
        "\n",
        "    if nodo.name == \"L\":\n",
        "        print(\"\\n--------------------\")\n",
        "        print(\"Nodo encontrado:\", nodo)\n",
        "        break\n",
        "    print(\"-->\", end = \" \")"
      ],
      "metadata": {
        "id": "feEUdpQjtXfk"
      },
      "execution_count": null,
      "outputs": []
    }
  ]
}